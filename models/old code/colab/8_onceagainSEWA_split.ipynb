{
  "nbformat": 4,
  "nbformat_minor": 0,
  "metadata": {
    "colab": {
      "provenance": []
    },
    "kernelspec": {
      "name": "python3",
      "display_name": "Python 3"
    },
    "language_info": {
      "name": "python"
    }
  },
  "cells": [
    {
      "cell_type": "code",
      "execution_count": null,
      "metadata": {
        "colab": {
          "base_uri": "https://localhost:8080/"
        },
        "id": "27wiOacVinD5",
        "outputId": "a1c5f6cd-8dba-43b7-e3db-585cfba4f4b0"
      },
      "outputs": [
        {
          "output_type": "stream",
          "name": "stdout",
          "text": [
            "Drive already mounted at /content/drive/; to attempt to forcibly remount, call drive.mount(\"/content/drive/\", force_remount=True).\n"
          ]
        }
      ],
      "source": [
        "from google.colab import drive\n",
        "drive.mount('/content/drive/')"
      ]
    },
    {
      "cell_type": "code",
      "source": [
        "import pandas as pd\n",
        "\n",
        "# Load your dataset\n",
        "data = pd.read_csv('/content/drive/MyDrive/SEWA_features_wav2vec_1_seconds.csv')\n",
        "\n",
        "# Extract video numbers from the 'filename' column\n",
        "data['video_number'] = data['filename'].str.extract('SEW(\\d+).wav').astype(int)\n",
        "\n",
        "# Sort the DataFrame by the video number\n",
        "sorted_data = data.sort_values(by='video_number')\n",
        "\n",
        "# Drop the 'video_number' column as it's no longer needed\n",
        "sorted_data.drop('video_number', axis=1, inplace=True)\n",
        "\n",
        "# Save the sorted DataFrame to a new CSV file\n",
        "sorted_data.to_csv('/content/drive/MyDrive/SEWA_features_wav2vec_1_seconds_SORTED.csv', index=False)\n"
      ],
      "metadata": {
        "id": "i65wfNz6i30h"
      },
      "execution_count": null,
      "outputs": []
    },
    {
      "cell_type": "code",
      "source": [
        "import pandas as pd\n",
        "\n",
        "# Load your dataset\n",
        "data = pd.read_csv('/content/drive/MyDrive/SEWA_features_wav2vec_4_seconds.csv')\n",
        "\n",
        "# Extract video numbers from the 'filename' column\n",
        "data['video_number'] = data['filename'].str.extract('SEW(\\d+).wav').astype(int)\n",
        "\n",
        "# Sort the DataFrame by video number and then by start_timestep within each video\n",
        "sorted_data = data.sort_values(by=['video_number', 'start_timestep'])\n",
        "\n",
        "# Drop the 'video_number' column as it's no longer needed\n",
        "sorted_data.drop('video_number', axis=1, inplace=True)\n",
        "\n",
        "# Save the sorted DataFrame to a new CSV file\n",
        "sorted_data.to_csv('/content/drive/MyDrive/SEWA_features_wav2vec_4_seconds_SORTED.csv', index=False)\n"
      ],
      "metadata": {
        "id": "sU2gR3y5kjhM"
      },
      "execution_count": null,
      "outputs": []
    },
    {
      "cell_type": "code",
      "source": [
        "import pandas as pd\n",
        "\n",
        "# Load the sorted dataset\n",
        "sorted_data = pd.read_csv('/content/drive/MyDrive/SEWA_features_wav2vec_4_seconds_SORTED.csv')\n",
        "\n",
        "# Extract video numbers for splitting\n",
        "sorted_data['video_number'] = sorted_data['filename'].str.extract('SEW(\\d+).wav').astype(int)\n",
        "\n",
        "# Split the data according to the specified video number ranges\n",
        "train_data = sorted_data[(sorted_data['video_number'] >= 1101) & (sorted_data['video_number'] <= 2116)]\n",
        "dev_data = sorted_data[(sorted_data['video_number'] >= 2117) & (sorted_data['video_number'] <= 2208)]\n",
        "test_data = sorted_data[(sorted_data['video_number'] >= 2209) & (sorted_data['video_number'] <= 2224)]\n",
        "\n",
        "# Drop the 'video_number' column as it's no longer needed\n",
        "train_data = train_data.drop('video_number', axis=1)\n",
        "dev_data = dev_data.drop('video_number', axis=1)\n",
        "test_data = test_data.drop('video_number', axis=1)\n",
        "\n",
        "# Save the datasets to their respective CSV files\n",
        "train_data.to_csv('/content/drive/MyDrive/4sec/SEWA_features_wav2vec_4_seconds_train.csv', index=False)\n",
        "dev_data.to_csv('/content/drive/MyDrive/4sec/SEWA_features_wav2vec_4_seconds_dev.csv', index=False)\n",
        "test_data.to_csv('/content/drive/MyDrive/4sec/SEWA_features_wav2vec_4_seconds_test.csv', index=False)\n"
      ],
      "metadata": {
        "id": "MUpuDy7JnB-B"
      },
      "execution_count": null,
      "outputs": []
    }
  ]
}
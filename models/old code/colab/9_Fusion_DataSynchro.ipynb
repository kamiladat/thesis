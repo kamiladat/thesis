{
  "nbformat": 4,
  "nbformat_minor": 0,
  "metadata": {
    "colab": {
      "provenance": []
    },
    "kernelspec": {
      "name": "python3",
      "display_name": "Python 3"
    },
    "language_info": {
      "name": "python"
    }
  },
  "cells": [
    {
      "cell_type": "code",
      "execution_count": null,
      "metadata": {
        "colab": {
          "base_uri": "https://localhost:8080/"
        },
        "id": "O2-TdQowg5Py",
        "outputId": "240f7a3f-d927-4a3d-d9e2-29f9406c2f68"
      },
      "outputs": [
        {
          "output_type": "stream",
          "name": "stdout",
          "text": [
            "Mounted at /content/drive/\n"
          ]
        }
      ],
      "source": [
        "from google.colab import drive\n",
        "drive.mount('/content/drive/')"
      ]
    },
    {
      "cell_type": "code",
      "source": [
        "import pandas as pd\n",
        "\n",
        "# Function to load a dataset\n",
        "def load_dataset(audio_path, video_path):\n",
        "    audio_df = pd.read_csv(audio_path)\n",
        "    video_df = pd.read_csv(video_path)\n",
        "    # Ensure the timestamp is rounded for proper matching\n",
        "    video_df['matched_audio_start'] = video_df['timestamp'].apply(lambda x: int(x))\n",
        "    return audio_df, video_df\n",
        "\n",
        "# Function to synchronize and merge datasets\n",
        "def synchronize_and_merge(audio_df, video_df):\n",
        "    # Merge based on the audio start time and the adjusted video timestamp\n",
        "    merged_df = pd.merge(audio_df, video_df, left_on='start_timestep', right_on='matched_audio_start', how='inner')\n",
        "    # Optionally, clean up the DataFrame by dropping unnecessary columns\n",
        "    # merged_df.drop(['matched_audio_start'], axis=1, inplace=True)\n",
        "    return merged_df\n",
        "\n",
        "# Paths to your datasets\n",
        "dataset_paths = {\n",
        "    \"train\": (\"/content/drive/MyDrive/1sec/SEWA_features_wav2vec_1_seconds_train.csv\", \"/content/drive/MyDrive/SEWA_radiant_fog_160_train.csv\"),\n",
        "    \"dev\": (\"/content/drive/MyDrive/1sec/SEWA_features_wav2vec_1_seconds_dev.csv\", \"/content/drive/MyDrive/SEWA_radiant_fog_160_dev.csv\"),\n",
        "    \"test\": (\"/content/drive/MyDrive/1sec/SEWA_features_wav2vec_1_seconds_test.csv\", \"/content/drive/MyDrive/SEWA_radiant_fog_160_test.csv\")\n",
        "}\n",
        "\n",
        "# Process and save each dataset\n",
        "for set_name, (audio_path, video_path) in dataset_paths.items():\n",
        "    audio_df, video_df = load_dataset(audio_path, video_path)\n",
        "    merged_df = synchronize_and_merge(audio_df, video_df)\n",
        "    # Save the synchronized and merged dataset\n",
        "    merged_df.to_csv(f'/content/drive/MyDrive/SynchronizedData-Fusion/synchronized_{set_name}.csv', index=False)"
      ],
      "metadata": {
        "colab": {
          "base_uri": "https://localhost:8080/"
        },
        "id": "HoUV3-CChPIN",
        "outputId": "fff3c77b-1e8e-4ece-9d18-6bf6feac9813"
      },
      "execution_count": null,
      "outputs": [
        {
          "output_type": "stream",
          "name": "stderr",
          "text": [
            "<ipython-input-1-54845fc48cc5>:14: UserWarning: You are merging on int and float columns where the float values are not equal to their int representation.\n",
            "  merged_df = pd.merge(audio_df, video_df, left_on='start_timestep', right_on='matched_audio_start', how='inner')\n"
          ]
        }
      ]
    }
  ]
}
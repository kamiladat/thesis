{
  "nbformat": 4,
  "nbformat_minor": 0,
  "metadata": {
    "colab": {
      "provenance": []
    },
    "kernelspec": {
      "name": "python3",
      "display_name": "Python 3"
    },
    "language_info": {
      "name": "python"
    }
  },
  "cells": [
    {
      "cell_type": "code",
      "execution_count": null,
      "metadata": {
        "colab": {
          "base_uri": "https://localhost:8080/"
        },
        "id": "VLo04_fHRzFM",
        "outputId": "d892a3b4-c8b8-4227-d08f-62f225490535"
      },
      "outputs": [
        {
          "output_type": "stream",
          "name": "stdout",
          "text": [
            "Mounted at /content/drive/\n"
          ]
        }
      ],
      "source": [
        "from google.colab import drive\n",
        "drive.mount('/content/drive/')"
      ]
    },
    {
      "cell_type": "code",
      "source": [
        "#1 seconds interval\n",
        "\n",
        "import pandas as pd\n",
        "from sklearn.model_selection import train_test_split\n",
        "\n",
        "# Load the dataset\n",
        "file_path = '/content/drive/MyDrive/SEWA_features_wav2vec_1_seconds.csv'\n",
        "data = pd.read_csv(file_path)\n",
        "\n",
        "# Assuming the video ID can be extracted from the filename column\n",
        "data['video_id'] = data['filename'].apply(lambda x: x.split('/')[-1].split('.')[0])\n",
        "\n",
        "# Extract unique video IDs\n",
        "unique_videos = data['video_id'].unique()\n",
        "\n",
        "# Split the unique video IDs into training and temp (dev+test) sets\n",
        "random_seed = 42  # For reproducibility\n",
        "video_ids_train, video_ids_temp = train_test_split(unique_videos, test_size=0.3, random_state=random_seed)\n",
        "\n",
        "# Further split the temp set into development and testing sets\n",
        "video_ids_dev, video_ids_test = train_test_split(video_ids_temp, test_size=0.5, random_state=random_seed)\n",
        "\n",
        "# Aggregate the data segments for each set based on video IDs\n",
        "train_data = data[data['video_id'].isin(video_ids_train)]\n",
        "dev_data = data[data['video_id'].isin(video_ids_dev)]\n",
        "test_data = data[data['video_id'].isin(video_ids_test)]\n",
        "\n",
        "# Define file paths for saving\n",
        "train_file_path = '/content/drive/MyDrive/SEWA_features_wav2vec_1_seconds-TRAIN.csv'\n",
        "dev_file_path = '/content/drive/MyDrive/SEWA_features_wav2vec_1_seconds-DEV.csv'\n",
        "test_file_path = '/content/drive/MyDrive/SEWA_features_wav2vec_1_seconds-TEST.csv'\n",
        "\n",
        "# Save each dataset to its respective file\n",
        "train_data.to_csv(train_file_path, index=False)\n",
        "dev_data.to_csv(dev_file_path, index=False)\n",
        "test_data.to_csv(test_file_path, index=False)\n",
        "\n",
        "print(\"Datasets saved successfully:\")\n",
        "print(f\"Training Data: {train_file_path}\")\n",
        "print(f\"Development Data: {dev_file_path}\")\n",
        "print(f\"Testing Data: {test_file_path}\")\n"
      ],
      "metadata": {
        "colab": {
          "base_uri": "https://localhost:8080/"
        },
        "id": "pfkQmeZvSImr",
        "outputId": "cc7c0fbb-63cb-48de-b5b9-5194f6eae691"
      },
      "execution_count": null,
      "outputs": [
        {
          "output_type": "stream",
          "name": "stdout",
          "text": [
            "Datasets saved successfully:\n",
            "Training Data: /content/drive/MyDrive/SEWA_features_wav2vec_1_seconds-TRAIN.csv\n",
            "Development Data: /content/drive/MyDrive/SEWA_features_wav2vec_1_seconds-DEV.csv\n",
            "Testing Data: /content/drive/MyDrive/SEWA_features_wav2vec_1_seconds-TEST.csv\n"
          ]
        }
      ]
    },
    {
      "cell_type": "code",
      "source": [
        "#2 seconds interval\n",
        "\n",
        "import pandas as pd\n",
        "from sklearn.model_selection import train_test_split\n",
        "\n",
        "# Load the dataset\n",
        "file_path = '/content/drive/MyDrive/SEWA_features_wav2vec_2_seconds.csv'\n",
        "data = pd.read_csv(file_path)\n",
        "\n",
        "# Assuming the video ID can be extracted from the filename column\n",
        "data['video_id'] = data['filename'].apply(lambda x: x.split('/')[-1].split('.')[0])\n",
        "\n",
        "# Extract unique video IDs\n",
        "unique_videos = data['video_id'].unique()\n",
        "\n",
        "# Split the unique video IDs into training and temp (dev+test) sets\n",
        "random_seed = 42  # For reproducibility\n",
        "video_ids_train, video_ids_temp = train_test_split(unique_videos, test_size=0.3, random_state=random_seed)\n",
        "\n",
        "# Further split the temp set into development and testing sets\n",
        "video_ids_dev, video_ids_test = train_test_split(video_ids_temp, test_size=0.5, random_state=random_seed)\n",
        "\n",
        "# Aggregate the data segments for each set based on video IDs\n",
        "train_data = data[data['video_id'].isin(video_ids_train)]\n",
        "dev_data = data[data['video_id'].isin(video_ids_dev)]\n",
        "test_data = data[data['video_id'].isin(video_ids_test)]\n",
        "\n",
        "# Define file paths for saving\n",
        "train_file_path = '/content/drive/MyDrive/SEWA_features_wav2vec_2_seconds-TRAIN.csv'\n",
        "dev_file_path = '/content/drive/MyDrive/SEWA_features_wav2vec_2_seconds-DEV.csv'\n",
        "test_file_path = '/content/drive/MyDrive/SEWA_features_wav2vec_2_seconds-TEST.csv'\n",
        "\n",
        "# Save each dataset to its respective file\n",
        "train_data.to_csv(train_file_path, index=False)\n",
        "dev_data.to_csv(dev_file_path, index=False)\n",
        "test_data.to_csv(test_file_path, index=False)\n",
        "\n",
        "print(\"Datasets saved successfully:\")\n",
        "print(f\"Training Data: {train_file_path}\")\n",
        "print(f\"Development Data: {dev_file_path}\")\n",
        "print(f\"Testing Data: {test_file_path}\")\n"
      ],
      "metadata": {
        "colab": {
          "base_uri": "https://localhost:8080/"
        },
        "id": "4OTQ-0s2V4cf",
        "outputId": "958e7bd6-16a7-400b-b8af-47cb456f6c5c"
      },
      "execution_count": null,
      "outputs": [
        {
          "output_type": "stream",
          "name": "stdout",
          "text": [
            "Datasets saved successfully:\n",
            "Training Data: /content/drive/MyDrive/SEWA_features_wav2vec_2_seconds-TRAIN.csv\n",
            "Development Data: /content/drive/MyDrive/SEWA_features_wav2vec_2_seconds-DEV.csv\n",
            "Testing Data: /content/drive/MyDrive/SEWA_features_wav2vec_2_seconds-TEST.csv\n"
          ]
        }
      ]
    },
    {
      "cell_type": "code",
      "source": [
        "#3 seconds interval\n",
        "\n",
        "import pandas as pd\n",
        "from sklearn.model_selection import train_test_split\n",
        "\n",
        "# Load the dataset\n",
        "file_path = '/content/drive/MyDrive/SEWA_features_wav2vec_3_seconds.csv'\n",
        "data = pd.read_csv(file_path)\n",
        "\n",
        "# Assuming the video ID can be extracted from the filename column\n",
        "data['video_id'] = data['filename'].apply(lambda x: x.split('/')[-1].split('.')[0])\n",
        "\n",
        "# Extract unique video IDs\n",
        "unique_videos = data['video_id'].unique()\n",
        "\n",
        "# Split the unique video IDs into training and temp (dev+test) sets\n",
        "random_seed = 42  # For reproducibility\n",
        "video_ids_train, video_ids_temp = train_test_split(unique_videos, test_size=0.3, random_state=random_seed)\n",
        "\n",
        "# Further split the temp set into development and testing sets\n",
        "video_ids_dev, video_ids_test = train_test_split(video_ids_temp, test_size=0.5, random_state=random_seed)\n",
        "\n",
        "# Aggregate the data segments for each set based on video IDs\n",
        "train_data = data[data['video_id'].isin(video_ids_train)]\n",
        "dev_data = data[data['video_id'].isin(video_ids_dev)]\n",
        "test_data = data[data['video_id'].isin(video_ids_test)]\n",
        "\n",
        "# Define file paths for saving\n",
        "train_file_path = '/content/drive/MyDrive/SEWA_features_wav2vec_3_seconds-TRAIN.csv'\n",
        "dev_file_path = '/content/drive/MyDrive/SEWA_features_wav2vec_3_seconds-DEV.csv'\n",
        "test_file_path = '/content/drive/MyDrive/SEWA_features_wav2vec_3_seconds-TEST.csv'\n",
        "\n",
        "# Save each dataset to its respective file\n",
        "train_data.to_csv(train_file_path, index=False)\n",
        "dev_data.to_csv(dev_file_path, index=False)\n",
        "test_data.to_csv(test_file_path, index=False)\n",
        "\n",
        "print(\"Datasets saved successfully:\")\n",
        "print(f\"Training Data: {train_file_path}\")\n",
        "print(f\"Development Data: {dev_file_path}\")\n",
        "print(f\"Testing Data: {test_file_path}\")\n"
      ],
      "metadata": {
        "colab": {
          "base_uri": "https://localhost:8080/"
        },
        "id": "X7bOtTxUV93M",
        "outputId": "24bc5c42-2309-4077-f0ac-404d678d69ce"
      },
      "execution_count": null,
      "outputs": [
        {
          "output_type": "stream",
          "name": "stdout",
          "text": [
            "Datasets saved successfully:\n",
            "Training Data: /content/drive/MyDrive/SEWA_features_wav2vec_3_seconds-TRAIN.csv\n",
            "Development Data: /content/drive/MyDrive/SEWA_features_wav2vec_3_seconds-DEV.csv\n",
            "Testing Data: /content/drive/MyDrive/SEWA_features_wav2vec_3_seconds-TEST.csv\n"
          ]
        }
      ]
    },
    {
      "cell_type": "code",
      "source": [
        "#4 seconds interval\n",
        "\n",
        "import pandas as pd\n",
        "from sklearn.model_selection import train_test_split\n",
        "\n",
        "# Load the dataset\n",
        "file_path = '/content/drive/MyDrive/SEWA_features_wav2vec_4_seconds.csv'\n",
        "data = pd.read_csv(file_path)\n",
        "\n",
        "# Assuming the video ID can be extracted from the filename column\n",
        "data['video_id'] = data['filename'].apply(lambda x: x.split('/')[-1].split('.')[0])\n",
        "\n",
        "# Extract unique video IDs\n",
        "unique_videos = data['video_id'].unique()\n",
        "\n",
        "# Split the unique video IDs into training and temp (dev+test) sets\n",
        "random_seed = 42  # For reproducibility\n",
        "video_ids_train, video_ids_temp = train_test_split(unique_videos, test_size=0.3, random_state=random_seed)\n",
        "\n",
        "# Further split the temp set into development and testing sets\n",
        "video_ids_dev, video_ids_test = train_test_split(video_ids_temp, test_size=0.5, random_state=random_seed)\n",
        "\n",
        "# Aggregate the data segments for each set based on video IDs\n",
        "train_data = data[data['video_id'].isin(video_ids_train)]\n",
        "dev_data = data[data['video_id'].isin(video_ids_dev)]\n",
        "test_data = data[data['video_id'].isin(video_ids_test)]\n",
        "\n",
        "# Define file paths for saving\n",
        "train_file_path = '/content/drive/MyDrive/SEWA_features_wav2vec_4_seconds-TRAIN.csv'\n",
        "dev_file_path = '/content/drive/MyDrive/SEWA_features_wav2vec_4_seconds-DEV.csv'\n",
        "test_file_path = '/content/drive/MyDrive/SEWA_features_wav2vec_4_seconds-TEST.csv'\n",
        "\n",
        "# Save each dataset to its respective file\n",
        "train_data.to_csv(train_file_path, index=False)\n",
        "dev_data.to_csv(dev_file_path, index=False)\n",
        "test_data.to_csv(test_file_path, index=False)\n",
        "\n",
        "print(\"Datasets saved successfully:\")\n",
        "print(f\"Training Data: {train_file_path}\")\n",
        "print(f\"Development Data: {dev_file_path}\")\n",
        "print(f\"Testing Data: {test_file_path}\")\n"
      ],
      "metadata": {
        "colab": {
          "base_uri": "https://localhost:8080/"
        },
        "id": "fK4TSuJEV_Sj",
        "outputId": "9bbb1947-d716-4d17-9e27-50292771b2ba"
      },
      "execution_count": null,
      "outputs": [
        {
          "output_type": "stream",
          "name": "stdout",
          "text": [
            "Datasets saved successfully:\n",
            "Training Data: /content/drive/MyDrive/SEWA_features_wav2vec_4_seconds-TRAIN.csv\n",
            "Development Data: /content/drive/MyDrive/SEWA_features_wav2vec_4_seconds-DEV.csv\n",
            "Testing Data: /content/drive/MyDrive/SEWA_features_wav2vec_4_seconds-TEST.csv\n"
          ]
        }
      ]
    }
  ]
}
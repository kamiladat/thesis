{
  "nbformat": 4,
  "nbformat_minor": 0,
  "metadata": {
    "colab": {
      "provenance": []
    },
    "kernelspec": {
      "name": "python3",
      "display_name": "Python 3"
    },
    "language_info": {
      "name": "python"
    }
  },
  "cells": [
    {
      "cell_type": "code",
      "execution_count": null,
      "metadata": {
        "id": "qrAnFjJdOIqo"
      },
      "outputs": [],
      "source": [
        "import pandas as pd\n",
        "\n",
        "def synchronize_audio_video(audio_df, video_df):\n",
        "    # Round video timestamps for easier matching\n",
        "    video_df['rounded_timestamp'] = video_df['timestamp'].round()\n",
        "\n",
        "    # Prepare the audio dataframe by creating a key for easier merging\n",
        "    audio_df['merge_key'] = audio_df['start_timestep'].astype(int)\n",
        "\n",
        "    # Merge based on the rounded timestamp and the new audio merge key\n",
        "    merged_df = pd.merge(video_df, audio_df, left_on='rounded_timestamp', right_on='merge_key', how='inner')\n",
        "\n",
        "    # Drop unnecessary columns if needed\n",
        "    merged_df.drop(['rounded_timestamp', 'merge_key'], axis=1, inplace=True)\n",
        "\n",
        "    return merged_df\n",
        "\n",
        "# Paths to your datasets\n",
        "audio_train_path = '1sec/SEWA_features_wav2vec_1_seconds_train.csv'\n",
        "audio_dev_path = '1sec/SEWA_features_wav2vec_1_seconds_dev.csv'\n",
        "audio_test_path = '1sec/SEWA_features_wav2vec_1_seconds_test.csv'\n",
        "\n",
        "video_train_path = 'SEWA_radiant_fog_160_train.csv'\n",
        "video_dev_path = 'SEWA_radiant_fog_160_dev.csv'\n",
        "video_test_path = 'SEWA_radiant_fog_160_test.csv'\n",
        "\n",
        "# Load the datasets\n",
        "audio_train = pd.read_csv(audio_train_path)\n",
        "audio_dev = pd.read_csv(audio_dev_path)\n",
        "audio_test = pd.read_csv(audio_test_path)\n",
        "\n",
        "video_train = pd.read_csv(video_train_path)\n",
        "video_dev = pd.read_csv(video_dev_path)\n",
        "video_test = pd.read_csv(video_test_path)\n",
        "\n",
        "# Synchronize and merge the datasets\n",
        "merged_train = synchronize_audio_video(audio_train, video_train)\n",
        "merged_dev = synchronize_audio_video(audio_dev, video_dev)\n",
        "merged_test = synchronize_audio_video(audio_test, video_test)\n",
        "\n",
        "# Save the synchronized and merged datasets\n",
        "merged_train.to_csv('SynchronizedData-Fusion/merged_train.csv', index=False)\n",
        "merged_dev.to_csv('SynchronizedData-Fusion/merged_dev.csv', index=False)\n",
        "merged_test.to_csv('SynchronizedData-Fusion/merged_test.csv', index=False)\n",
        "\n",
        "print(\"Synchronization and merging complete. Files saved.\")\n"
      ]
    }
  ]
}